{
 "cells": [
  {
   "cell_type": "markdown",
   "metadata": {},
   "source": [
    "# Continuous Control\n",
    "\n",
    "---\n",
    "\n",
    "You are welcome to use this coding environment to train your agent for the project.  Follow the instructions below to get started!\n",
    "\n",
    "### 1. Start the Environment\n",
    "\n",
    "Run the next code cell to install a few packages.  This line will take a few minutes to run!"
   ]
  },
  {
   "cell_type": "code",
   "execution_count": 1,
   "metadata": {},
   "outputs": [
    {
     "name": "stdout",
     "output_type": "stream",
     "text": [
      "\u001b[31mtensorflow 1.7.1 has requirement numpy>=1.13.3, but you'll have numpy 1.12.1 which is incompatible.\u001b[0m\r\n",
      "\u001b[31mipython 6.5.0 has requirement prompt-toolkit<2.0.0,>=1.0.15, but you'll have prompt-toolkit 2.0.10 which is incompatible.\u001b[0m\r\n"
     ]
    }
   ],
   "source": [
    "!pip -q install ./python"
   ]
  },
  {
   "cell_type": "markdown",
   "metadata": {},
   "source": [
    "The environments corresponding to both versions of the environment are already saved in the Workspace and can be accessed at the file paths provided below.  \n",
    "\n",
    "Please select one of the two options below for loading the environment."
   ]
  },
  {
   "cell_type": "code",
   "execution_count": 2,
   "metadata": {},
   "outputs": [
    {
     "name": "stderr",
     "output_type": "stream",
     "text": [
      "INFO:unityagents:\n",
      "'Academy' started successfully!\n",
      "Unity Academy name: Academy\n",
      "        Number of Brains: 1\n",
      "        Number of External Brains : 1\n",
      "        Lesson number : 0\n",
      "        Reset Parameters :\n",
      "\t\tgoal_speed -> 1.0\n",
      "\t\tgoal_size -> 5.0\n",
      "Unity brain name: ReacherBrain\n",
      "        Number of Visual Observations (per agent): 0\n",
      "        Vector Observation space type: continuous\n",
      "        Vector Observation space size (per agent): 33\n",
      "        Number of stacked Vector Observation: 1\n",
      "        Vector Action space type: continuous\n",
      "        Vector Action space size (per agent): 4\n",
      "        Vector Action descriptions: , , , \n"
     ]
    }
   ],
   "source": [
    "from unityagents import UnityEnvironment\n",
    "import numpy as np\n",
    "\n",
    "# select this option to load version 1 (with a single agent) of the environment\n",
    "# env = UnityEnvironment(file_name='/data/Reacher_One_Linux_NoVis/Reacher_One_Linux_NoVis.x86_64')\n",
    "\n",
    "# select this option to load version 2 (with 20 agents) of the environment\n",
    "env = UnityEnvironment(file_name='/data/Reacher_Linux_NoVis/Reacher.x86_64')"
   ]
  },
  {
   "cell_type": "markdown",
   "metadata": {},
   "source": [
    "Environments contain **_brains_** which are responsible for deciding the actions of their associated agents. Here we check for the first brain available, and set it as the default brain we will be controlling from Python."
   ]
  },
  {
   "cell_type": "code",
   "execution_count": 3,
   "metadata": {},
   "outputs": [],
   "source": [
    "# get the default brain\n",
    "brain_name = env.brain_names[0]\n",
    "brain = env.brains[brain_name]"
   ]
  },
  {
   "cell_type": "markdown",
   "metadata": {},
   "source": [
    "### 2. Examine the State and Action Spaces\n",
    "\n",
    "Run the code cell below to print some information about the environment."
   ]
  },
  {
   "cell_type": "code",
   "execution_count": 4,
   "metadata": {},
   "outputs": [
    {
     "name": "stdout",
     "output_type": "stream",
     "text": [
      "Number of agents: 20\n",
      "Size of each action: 4\n",
      "There are 20 agents. Each observes a state with length: 33\n",
      "The state for the first agent looks like: [  0.00000000e+00  -4.00000000e+00   0.00000000e+00   1.00000000e+00\n",
      "  -0.00000000e+00  -0.00000000e+00  -4.37113883e-08   0.00000000e+00\n",
      "   0.00000000e+00   0.00000000e+00   0.00000000e+00   0.00000000e+00\n",
      "   0.00000000e+00   0.00000000e+00  -1.00000000e+01   0.00000000e+00\n",
      "   1.00000000e+00  -0.00000000e+00  -0.00000000e+00  -4.37113883e-08\n",
      "   0.00000000e+00   0.00000000e+00   0.00000000e+00   0.00000000e+00\n",
      "   0.00000000e+00   0.00000000e+00   5.75471878e+00  -1.00000000e+00\n",
      "   5.55726624e+00   0.00000000e+00   1.00000000e+00   0.00000000e+00\n",
      "  -1.68164849e-01]\n"
     ]
    }
   ],
   "source": [
    "# reset the environment\n",
    "env_info = env.reset(train_mode=True)[brain_name]\n",
    "\n",
    "# number of agents\n",
    "num_agents = len(env_info.agents)\n",
    "print('Number of agents:', num_agents)\n",
    "\n",
    "# size of each action\n",
    "action_size = brain.vector_action_space_size\n",
    "print('Size of each action:', action_size)\n",
    "\n",
    "# examine the state space \n",
    "states = env_info.vector_observations\n",
    "state_size = states.shape[1]\n",
    "print('There are {} agents. Each observes a state with length: {}'.format(states.shape[0], state_size))\n",
    "print('The state for the first agent looks like:', states[0])"
   ]
  },
  {
   "cell_type": "markdown",
   "metadata": {},
   "source": [
    "### 3. Take Random Actions in the Environment\n",
    "\n",
    "In the next code cell, you will learn how to use the Python API to control the agent and receive feedback from the environment.\n",
    "\n",
    "Note that **in this coding environment, you will not be able to watch the agents while they are training**, and you should set `train_mode=True` to restart the environment."
   ]
  },
  {
   "cell_type": "code",
   "execution_count": 5,
   "metadata": {},
   "outputs": [
    {
     "name": "stdout",
     "output_type": "stream",
     "text": [
      "total score (averaged over agents) this episode: 0.0549999987706542\n",
      "total score (averaged over agents) this episode: 0.14049999685958028\n",
      "total score (averaged over agents) this episode: 0.13099999707192184\n",
      "total score (averaged over agents) this episode: 0.1699999962002039\n",
      "total score (averaged over agents) this episode: 0.16449999632313847\n"
     ]
    }
   ],
   "source": [
    "env_info = env.reset(train_mode=True)[brain_name]      # reset the environment    \n",
    "states = env_info.vector_observations                  # get the current state (for each agent)\n",
    "\n",
    "for i in range(5):\n",
    "    scores = np.zeros(num_agents)\n",
    "    while True:\n",
    "        actions = np.random.randn(num_agents, action_size) # select an action (for each agent)\n",
    "        actions = np.clip(actions, -1, 1)                  # all actions between -1 and 1\n",
    "        env_info = env.step(actions)[brain_name]           # send all actions to the environment\n",
    "        next_states = env_info.vector_observations         # get next state (for each agent)\n",
    "        rewards = env_info.rewards                         # get reward (for each agent)\n",
    "        dones = env_info.local_done                        # see if episode finished\n",
    "        scores += env_info.rewards                         # update the score (for each agent)\n",
    "        states = next_states                               # roll over states to next time step\n",
    "        if np.any(dones):                                  # exit loop if episode finished\n",
    "            break\n",
    "\n",
    "    print('total score (averaged over agents) this episode: {}'.format(np.mean(scores)))"
   ]
  },
  {
   "cell_type": "markdown",
   "metadata": {},
   "source": [
    "When finished, you can close the environment."
   ]
  },
  {
   "cell_type": "code",
   "execution_count": 6,
   "metadata": {},
   "outputs": [],
   "source": [
    "env.close()"
   ]
  },
  {
   "cell_type": "markdown",
   "metadata": {},
   "source": [
    "### 4. It's Your Turn!\n",
    "\n",
    "Now it's your turn to train your own agent to solve the environment!  A few **important notes**:\n",
    "- When training the environment, set `train_mode=True`, so that the line for resetting the environment looks like the following:\n",
    "```python\n",
    "env_info = env.reset(train_mode=True)[brain_name]\n",
    "```\n",
    "- To structure your work, you're welcome to work directly in this Jupyter notebook, or you might like to start over with a new file!  You can see the list of files in the workspace by clicking on **_Jupyter_** in the top left corner of the notebook.\n",
    "- In this coding environment, you will not be able to watch the agents while they are training.  However, **_after training the agents_**, you can download the saved model weights to watch the agents on your own machine! "
   ]
  },
  {
   "cell_type": "markdown",
   "metadata": {},
   "source": [
    "# KM custom agent training space"
   ]
  },
  {
   "cell_type": "code",
   "execution_count": 5,
   "metadata": {},
   "outputs": [],
   "source": [
    "from ddpg_agent import Agent   # creates the Actor and Critic networks, and defines OUNoise and ReplayBuffer classes\n",
    "agent = Agent(num_agents, state_size, action_size, random_seed=0)"
   ]
  },
  {
   "cell_type": "code",
   "execution_count": 8,
   "metadata": {},
   "outputs": [
    {
     "name": "stdout",
     "output_type": "stream",
     "text": [
      "current state:[  0.00000000e+00  -4.00000000e+00   0.00000000e+00   1.00000000e+00\n",
      "  -0.00000000e+00  -0.00000000e+00  -4.37113883e-08   0.00000000e+00\n",
      "   0.00000000e+00   0.00000000e+00   0.00000000e+00   0.00000000e+00\n",
      "   0.00000000e+00   0.00000000e+00  -1.00000000e+01   0.00000000e+00\n",
      "   1.00000000e+00  -0.00000000e+00  -0.00000000e+00  -4.37113883e-08\n",
      "   0.00000000e+00   0.00000000e+00   0.00000000e+00   0.00000000e+00\n",
      "   0.00000000e+00   0.00000000e+00  -1.11338425e+00  -1.00000000e+00\n",
      "   7.92214441e+00   0.00000000e+00   1.00000000e+00   0.00000000e+00\n",
      "   4.55320328e-01]\n",
      "action: [ 1.  1.  1.  1.]\n",
      "reward: 0.0\n",
      "done: False\n",
      "[0.0]\n",
      "total score this episode: 0.0\n"
     ]
    }
   ],
   "source": [
    "# KM DEBUG example only (NOT used in production runs)\n",
    "env_info  = env.reset(train_mode=True)[brain_name]      # reset the environment    \n",
    "state     = env_info.vector_observations[0]             # get the current state (for each agent)\n",
    "# scores = np.zeros(num_agents)                         # initialize the score (for each agent)\n",
    "scores = []\n",
    "scores_window = deque(maxlen=100)\n",
    "\n",
    "print(\"current state:\" + str(state))\n",
    "# actions = np.random.randn(num_agents, action_size) # select an action (for each agent)\n",
    "action = agent.act(cur_state, add_noise = False)\n",
    "action = np.clip(action, -1, 1)                      # all actions between -1 and 1\n",
    "print(\"action: \" + str(action))\n",
    "env_info = env.step(action)[brain_name]              # send all actions to the environment\n",
    "next_state = env_info.vector_observations[0]         # get next state (for each agent)\n",
    "reward = env_info.rewards[0]                         # get reward (for each agent)\n",
    "print(\"reward: \" + str(reward))\n",
    "done = env_info.local_done[0]                        # see if episode finished\n",
    "print(\"done: \" + str(done))\n",
    "\n",
    "scores.append(reward)                                # update the score (for each agent))\n",
    "state = next_state                                   # roll over states to next time step\n",
    "print(scores)\n",
    "print('total score this episode: {}'.format(np.mean(scores)))"
   ]
  },
  {
   "cell_type": "code",
   "execution_count": 7,
   "metadata": {},
   "outputs": [
    {
     "name": "stdout",
     "output_type": "stream",
     "text": [
      "episode [10/200]\taverage score: 1.20\n",
      "episode [20/200]\taverage score: 2.95\n",
      "episode [30/200]\taverage score: 5.92\n",
      "episode [40/200]\taverage score: 8.88\n",
      "episode [50/200]\taverage score: 12.42\n",
      "episode [60/200]\taverage score: 15.65\n",
      "episode [70/200]\taverage score: 18.03\n",
      "episode [80/200]\taverage score: 20.05\n",
      "episode [90/200]\taverage score: 21.75\n",
      "episode [100/200]\taverage score: 23.24\n",
      "episode [110/200]\taverage score: 26.87\n",
      "episode [120/200]\taverage score: 30.05\n",
      "\n",
      "environment solved in 19 episodes... average score: 30.05\n",
      "\n",
      "overall average score: 25.54 \n",
      "\n"
     ]
    }
   ],
   "source": [
    "# main agent training code\n",
    "import torch\n",
    "import numpy as np\n",
    "from collections import deque\n",
    "\n",
    "episodes = 200\n",
    "solved   = False\n",
    "\n",
    "scores = []                         # stores ALL the scores from ALL episodes\n",
    "scores_window = deque(maxlen=100)   # stores trailing 100 episodes (for assessing if/when environment is solved)\n",
    "\n",
    "for episode in range(episodes): \n",
    "    if not solved:\n",
    "        score = np.zeros(num_agents)                        # 20 agent \n",
    "        # score = 0.0 \n",
    "    \n",
    "        # reset the environment\n",
    "        env_info  = env.reset(train_mode=True)[brain_name]  # resets environment (independent of num_agents)\n",
    "        agent.reset()                                       # resets noise attribute of agent only\n",
    "        # cur_state = env_info.vector_observations[0]\n",
    "        states = env_info.vector_observations               # 20 agent \n",
    "    \n",
    "        while True:\n",
    "            # predict the best action(s) for the current state\n",
    "            actions = agent.act(states, add_noise = False)  # 20 agent \n",
    "        \n",
    "            # action(s) is/are performed and new state, reward, info are received (or vectors of each)\n",
    "            # env_info  = env.step(action)[brain_name]\n",
    "            env_info  = env.step(actions)[brain_name]       # 20 agent \n",
    "        \n",
    "            # new_state = env_info.vector_observations[0]\n",
    "            new_states = env_info.vector_observations       # 20 agent \n",
    "        \n",
    "            # reward    = env_info.rewards[0]\n",
    "            rewards    = env_info.rewards                   # 20 agent \n",
    "        \n",
    "            # done      = env_info.local_done[0]\n",
    "            dones      = env_info.local_done                # 20 agent \n",
    "        \n",
    "            # current state, action, reward, new state are stored in the experience replay buffer\n",
    "            # agent.step(cur_state, action, reward, new_state, done)\n",
    "            agent.step(states, actions, rewards, new_states, dones) # 20 agent \n",
    "        \n",
    "            # roll new state and score to next step in episode\n",
    "            # cur_state = new_state\n",
    "            states = new_states                                     # 20 agent \n",
    "            # score += reward\n",
    "            score += rewards                                        # 20 agent \n",
    "\n",
    "            if np.any(dones):                                       # 20 agent \n",
    "            # if done:\n",
    "                break\n",
    "    \n",
    "        scores.append(score)\n",
    "        scores_window.append(score)\n",
    "        \n",
    "        # print average score over last 10 episodes\n",
    "        if (episode + 1) % 10 == 0:  \n",
    "            print('\\repisode [{}/{}]\\taverage score: {:,.2f}'.format(episode + 1, episodes, np.mean(scores_window)))\n",
    "        \n",
    "        # environment considered solved when score >= 30.0 over last 100 episodes\n",
    "        if np.mean(scores_window) >= 30.0:\n",
    "            print(\"\\nenvironment solved in {:d} episodes... average score: {:.2f}\".format(episode-100, np.mean(scores_window)))\n",
    "            torch.save(agent.actor_local.state_dict(), 'km_actor20c.pth')\n",
    "            torch.save(agent.critic_local.state_dict(), 'km_critic20c.pth')\n",
    "            solved = True\n",
    "\n",
    "print('\\noverall average score: {:,.2f} \\n'.format(np.mean(scores)))"
   ]
  },
  {
   "cell_type": "code",
   "execution_count": 8,
   "metadata": {},
   "outputs": [
    {
     "name": "stdout",
     "output_type": "stream",
     "text": [
      "total score (averaged over agents) this episode: 38.75699913371354\n",
      "total score (averaged over agents) this episode: 37.71049915710464\n",
      "total score (averaged over agents) this episode: 37.9209991523996\n",
      "total score (averaged over agents) this episode: 36.546499183122066\n",
      "total score (averaged over agents) this episode: 38.26749914465472\n"
     ]
    }
   ],
   "source": [
    "# validate the trained agent works as observed\n",
    "env_info = env.reset(train_mode=True)[brain_name]       # reset the environment (same for any agent count)    \n",
    "\n",
    "# cur_state = env_info.vector_observations[0]\n",
    "states = env_info.vector_observations                   # 20 agents\n",
    "\n",
    "for i in range(5):\n",
    "    # scores_test = 0.0\n",
    "    scores_test = np.zeros(num_agents)                  # 20 agents\n",
    "\n",
    "    while True:\n",
    "        # action = agent.act(cur_state, add_noise = False)\n",
    "        actions = agent.act(states, add_noise = False)  # 20 agents\n",
    "        \n",
    "        # env_info = env.step(action)[brain_name]\n",
    "        env_info = env.step(actions)[brain_name]        # 20 agents\n",
    "        \n",
    "        # next_state = env_info.vector_observations[0]\n",
    "        next_states = env_info.vector_observations      # 20 agents\n",
    "        \n",
    "        # reward = env_info.rewards[0]\n",
    "        rewards = env_info.rewards                      # 20 agents\n",
    "        \n",
    "        # done = env_info.local_done[0]\n",
    "        dones = env_info.local_done                     # 20 agents\n",
    "        \n",
    "        # scores_test += reward\n",
    "        scores_test += env_info.rewards                 # 20 agents\n",
    "        \n",
    "        # cur_state = next_state\n",
    "        states = next_states                            # 20 agents\n",
    "        \n",
    "        if np.any(dones):                               # 20 agents\n",
    "        # if done:\n",
    "            break\n",
    "\n",
    "    print('total score (averaged over agents) this episode: {}'.format(np.mean(scores_test)))"
   ]
  },
  {
   "cell_type": "code",
   "execution_count": 9,
   "metadata": {},
   "outputs": [
    {
     "data": {
      "image/png": "[encoded data removed]",
      "text/plain": [
       "<matplotlib.figure.Figure at 0x7f6c1ddeed68>"
      ]
     },
     "metadata": {
      "needs_background": "light"
     },
     "output_type": "display_data"
    }
   ],
   "source": [
    "# plot the scores for ALL 20 agents\n",
    "import matplotlib.pyplot as plt\n",
    "%matplotlib inline\n",
    "fig = plt.figure()\n",
    "ax = fig.add_subplot(111)\n",
    "plt.plot(np.arange(len(scores)), scores)\n",
    "plt.ylabel('score')\n",
    "plt.xlabel('episode #')\n",
    "plt.show()"
   ]
  },
  {
   "cell_type": "code",
   "execution_count": 10,
   "metadata": {},
   "outputs": [
    {
     "data": {
      "image/png": "[encoded data removed]",
      "text/plain": [
       "<matplotlib.figure.Figure at 0x7f6c18192438>"
      ]
     },
     "metadata": {
      "needs_background": "light"
     },
     "output_type": "display_data"
    }
   ],
   "source": [
    "# plot the average score across the agents\n",
    "score_array = np.asarray(scores)\n",
    "score_agent_ave = np.mean(score_array, axis = 1)\n",
    "fig = plt.figure()\n",
    "ax = fig.add_subplot(111)\n",
    "plt.plot(range(1,len(score_agent_ave)+1), score_agent_ave)\n",
    "plt.xlabel('episode #')\n",
    "plt.ylabel('average score')\n",
    "plt.show()"
   ]
  },
  {
   "cell_type": "code",
   "execution_count": 7,
   "metadata": {},
   "outputs": [
    {
     "name": "stdout",
     "output_type": "stream",
     "text": [
      "\n",
      "actor file:  km_actor20a.pth\n",
      "critic file: km_critic20a.pth\n",
      "total score (averaged over agents) this episode: 32.990499262604864\n",
      "total score (averaged over agents) this episode: 32.35449927682057\n",
      "total score (averaged over agents) this episode: 32.11249928222969\n",
      "total score (averaged over agents) this episode: 32.84799926578999\n",
      "total score (averaged over agents) this episode: 30.93399930857122\n",
      "\n",
      "actor file:  km_actor20b.pth\n",
      "critic file: km_critic20b.pth\n",
      "total score (averaged over agents) this episode: 34.08599923811853\n",
      "total score (averaged over agents) this episode: 33.85099924337119\n",
      "total score (averaged over agents) this episode: 33.65749924769625\n",
      "total score (averaged over agents) this episode: 33.61099924873561\n",
      "total score (averaged over agents) this episode: 34.79799922220409\n",
      "\n",
      "actor file:  km_actor20c.pth\n",
      "critic file: km_critic20c.pth\n",
      "total score (averaged over agents) this episode: 37.977499151136726\n",
      "total score (averaged over agents) this episode: 37.505999161675575\n",
      "total score (averaged over agents) this episode: 38.368999142386016\n",
      "total score (averaged over agents) this episode: 38.46249914029613\n",
      "total score (averaged over agents) this episode: 37.456999162770806\n"
     ]
    }
   ],
   "source": [
    "# for all saved pytorch models, load and validate scores of each\n",
    "import torch\n",
    "actors = ['km_actor20a.pth', 'km_actor20b.pth', 'km_actor20c.pth']       # list of actor model filenames\n",
    "critics = ['km_critic20a.pth', 'km_critic20b.pth', 'km_critic20c.pth']   # list of critic model filenames\n",
    "\n",
    "# load each pair for every pair in files\n",
    "for actor, critic in zip(actors, critics):\n",
    "    agent.actor_local.load_state_dict(torch.load(actor, map_location= 'cpu'))\n",
    "    agent.critic_local.load_state_dict(torch.load(critic, map_location = 'cpu'))\n",
    "    \n",
    "    print(\"\\nactor file:  \" + str(actor))\n",
    "    print(\"critic file: \" + str(critic))\n",
    "    \n",
    "    # validate the agent works as trained\n",
    "    env_info = env.reset(train_mode=True)[brain_name]         # reset the environment (same for any agent count)    \n",
    "\n",
    "    # cur_state = env_info.vector_observations[0]\n",
    "    states = env_info.vector_observations                   # 20 agents\n",
    "\n",
    "    for i in range(5):\n",
    "        # scores_test = 0.0\n",
    "        scores_test = np.zeros(num_agents)                  # 20 agents\n",
    "\n",
    "        while True:\n",
    "            # action = agent.act(cur_state, add_noise = False)\n",
    "            actions = agent.act(states, add_noise = False)  # 20 agents\n",
    "        \n",
    "            # env_info = env.step(action)[brain_name]\n",
    "            env_info = env.step(actions)[brain_name]        # 20 agents\n",
    "        \n",
    "            # next_state = env_info.vector_observations[0]\n",
    "            next_states = env_info.vector_observations      # 20 agents\n",
    "        \n",
    "            # reward = env_info.rewards[0]\n",
    "            rewards = env_info.rewards                      # 20 agents\n",
    "        \n",
    "            # done = env_info.local_done[0]\n",
    "            dones = env_info.local_done                     # 20 agents\n",
    "        \n",
    "            # scores_test += reward\n",
    "            scores_test += env_info.rewards                 # 20 agents\n",
    "        \n",
    "            # cur_state = next_state\n",
    "            states = next_states                            # 20 agents\n",
    "        \n",
    "            if np.any(dones):                               # 20 agents\n",
    "            # if done:\n",
    "                break\n",
    "\n",
    "        print('total score (averaged over agents) this episode: {}'.format(np.mean(scores_test)))"
   ]
  },
  {
   "cell_type": "code",
   "execution_count": null,
   "metadata": {},
   "outputs": [],
   "source": []
  }
 ],
 "metadata": {
  "kernelspec": {
   "display_name": "Python 3",
   "language": "python",
   "name": "python3"
  },
  "language_info": {
   "codemirror_mode": {
    "name": "ipython",
    "version": 3
   },
   "file_extension": ".py",
   "mimetype": "text/x-python",
   "name": "python",
   "nbconvert_exporter": "python",
   "pygments_lexer": "ipython3",
   "version": "3.6.3"
  }
 },
 "nbformat": 4,
 "nbformat_minor": 2
}
